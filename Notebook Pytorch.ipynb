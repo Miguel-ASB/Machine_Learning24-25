{
 "cells": [
  {
   "cell_type": "code",
   "execution_count": 2,
   "metadata": {},
   "outputs": [],
   "source": [
    "import torch\n",
    "\n",
    "\n",
    "\n"
   ]
  },
  {
   "cell_type": "code",
   "execution_count": 3,
   "metadata": {},
   "outputs": [
    {
     "name": "stdout",
     "output_type": "stream",
     "text": [
      "tensor([[4., 1.],\n",
      "        [5., 3.],\n",
      "        [6., 2.]])\n",
      "tensor([[5., 3.],\n",
      "        [6., 2.]])\n",
      "tensor([[5., 3.],\n",
      "        [6., 2.]])\n",
      "tensor([4., 1.])\n",
      "tensor(6.)\n"
     ]
    }
   ],
   "source": [
    "my_tensor = torch.tensor([[4.0,1.0],[5.0,3.0],[6.0,2.0]])\n",
    "\n",
    "print(my_tensor[:])\n",
    "print(my_tensor[1:])\n",
    "print(my_tensor[1:,:]) #recomendable\n",
    "print(my_tensor[0,:])\n",
    "print(my_tensor[-1,0])"
   ]
  },
  {
   "cell_type": "code",
   "execution_count": 4,
   "metadata": {},
   "outputs": [
    {
     "name": "stdout",
     "output_type": "stream",
     "text": [
      "tensor([[3, 6]])\n"
     ]
    }
   ],
   "source": [
    "a= torch.tensor([[1,2]], dtype=torch.int64)\n",
    "\n",
    "print(a*3)"
   ]
  },
  {
   "cell_type": "code",
   "execution_count": 5,
   "metadata": {},
   "outputs": [
    {
     "data": {
      "text/plain": [
       "tensor([[7, 1, 7, 8]])"
      ]
     },
     "execution_count": 5,
     "metadata": {},
     "output_type": "execute_result"
    }
   ],
   "source": [
    "t_1 = torch.tensor([[2, 3, 4, 1]])\n",
    "t_2= torch.tensor([[5, -2, 3, 7]])\n",
    "\n",
    "t_1+t_2"
   ]
  }
 ],
 "metadata": {
  "kernelspec": {
   "display_name": "Python 3",
   "language": "python",
   "name": "python3"
  },
  "language_info": {
   "codemirror_mode": {
    "name": "ipython",
    "version": 3
   },
   "file_extension": ".py",
   "mimetype": "text/x-python",
   "name": "python",
   "nbconvert_exporter": "python",
   "pygments_lexer": "ipython3",
   "version": "3.11.9"
  }
 },
 "nbformat": 4,
 "nbformat_minor": 2
}
